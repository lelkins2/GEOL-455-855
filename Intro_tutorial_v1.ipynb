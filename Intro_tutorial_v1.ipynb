{
 "cells": [
  {
   "cell_type": "markdown",
   "id": "3a9217ed",
   "metadata": {},
   "source": [
    "# Tutorial 1: Introduction to Python and Jupyter\n",
    "\n",
    "#### GEOL 455/855, Day 2 Exercise\n",
    "#### Dr. Lynne Elkins"
   ]
  },
  {
   "cell_type": "markdown",
   "id": "c3cb58e9",
   "metadata": {},
   "source": [
    "Welcome to your first Python coding tutorial! This is an introduction to writing basic code, which you will work through with classmates during class today.\n",
    "\n",
    "This code has been written as what is called a \"Jupyter notebook,\" which is designed to display and run code as discrete, modular, embedded cells in a web browser window. Although writing a more standard script code file is still a great approach for a lot of computational and numerical modeling, there are a few advantages to working with a Jupyter notebook:\n",
    "* Usable at all skill levels\n",
    "* Approachable for non-experts, with an intuitive sequential layout\n",
    "* Easy to edit and test small pieces of code within a larger script\n",
    "* Also approachable for experts, who may not need this format but can use it!\n",
    "* Convenient user-facing format that can import and \"call\" other code packages and functions\n",
    "* Can be run native on a computer, or in a browser using a cloud service that hosts the Jupyter environment\n",
    "* Professional look with formatted text"
   ]
  },
  {
   "cell_type": "markdown",
   "id": "f5c18c14",
   "metadata": {},
   "source": [
    "### Getting started\n",
    "\n",
    "So, how does it work?\n",
    "\n",
    "The next cell provides a useful example. It contains a snippet of code that can be run independent of anything else. It is a simple command, written in the language Python, that defines a variable by assigning it a value, and then printing that value to the screen.\n",
    "\n",
    "To run the code, select the cell with the mouse, and then type Shift + Return and observe the results."
   ]
  },
  {
   "cell_type": "code",
   "execution_count": 1,
   "id": "7c7a41a3",
   "metadata": {},
   "outputs": [
    {
     "name": "stdout",
     "output_type": "stream",
     "text": [
      "3.0\n"
     ]
    }
   ],
   "source": [
    "testvalue = 3.0\n",
    "\n",
    "print(testvalue)"
   ]
  },
  {
   "cell_type": "markdown",
   "id": "9f7cd148",
   "metadata": {},
   "source": [
    "Depending on what you saw above when you opened this notebook file, you might discover that someone had previously run that script cell and saved the notebook, so it remained printed to the screen. Because it was a relatively simple operation, you probably just overwrote that old result with a fresh one. Often, though, it helps to start fresh. Sometimes you will even want to pause and restart the code after you have used it a while, to test all of the cells fresh.\n",
    "\n",
    "To do so, use the menus at the top of the page and go to Kernel --> Restart and Clear Output, and then confirm by clicking the Restart. Now you can rerun the cell above, and not worry about any prior saved results."
   ]
  },
  {
   "cell_type": "markdown",
   "id": "e631c915",
   "metadata": {},
   "source": [
    "#### Exercise 1\n",
    "\n",
    "Now try a little practice! Go back to the cell above, try to edit the cell, and rerun it.\n",
    "\n",
    "Your goal: print a new, different numerical value to the screen."
   ]
  },
  {
   "cell_type": "markdown",
   "id": "40630204",
   "metadata": {},
   "source": [
    "### Data types\n",
    "\n",
    "Now, depending on how you typed your new number, you may actually have unintentionally told Python some additional information above. Variables can actually be saved with several different types of data:\n",
    "* Text (called a \"string\")\n",
    "* Exact, whole numerical values (integers)\n",
    "* Decimal numerical values (called \"floats\")\n",
    "\n",
    "The difference between integers and floats is quite important for computation. Computers cannot actually save infinite decimal values (because storage is finite), so to tackle numbers with a reasonable level of precision, a variable is saved to a specific number of digits. In Python, floats have 18 digits. However, if the final value of a decimal is always the same, that introduces a bias error to your computations; so instead, the computer assigns a random, \"floating\" value at the very end of the long decimal. This usually works well, but in rare cases can cause problems in computations. It helps to be aware of what a program is really doing in case you need to work around a problem!\n",
    "\n",
    "It is also the case that only certain kinds of values can be used for certain things. If you want to count the number of apples in a basket (or iterations in a repeating calculation), you want a precise integer number, like 5, not 5.000000000000001. You cannot use floats for this kind of operation. On the other hand, complex calculations rarely rely on exact integers, and usually require floats.\n",
    "\n",
    "And then there are strings! Often, it helps to use simple text for saving values, communicating information, printing to the screen, making exported tables and figures, and more. And a Python program will treat strings as simple characters, without reading any numerical values from it, even if it contains numbers. Sometimes it is necessary to change a numerical data type into a text string (or even vice versa), so you can work with it in different ways.\n",
    "\n",
    "#### Exercise 2\n",
    "Thus, it is important to be able to name, identify, and even switch between these data types! To get started, run the cells below to see what kind of data type you created above:"
   ]
  },
  {
   "cell_type": "code",
   "execution_count": 2,
   "id": "eff970e5",
   "metadata": {},
   "outputs": [
    {
     "data": {
      "text/plain": [
       "float"
      ]
     },
     "execution_count": 2,
     "metadata": {},
     "output_type": "execute_result"
    }
   ],
   "source": [
    "type(testvalue)"
   ]
  },
  {
   "cell_type": "markdown",
   "id": "2ea62729",
   "metadata": {},
   "source": [
    "How can you be clear with Python about what type of variable you want a numerical value to be? Well, for whole numbers, the simplest way is just to use or omit a decimal:"
   ]
  },
  {
   "cell_type": "code",
   "execution_count": 3,
   "id": "094374d6",
   "metadata": {},
   "outputs": [],
   "source": [
    "value_int = 1\n",
    "value_float = 1."
   ]
  },
  {
   "cell_type": "code",
   "execution_count": 4,
   "id": "3b8e3b70",
   "metadata": {},
   "outputs": [
    {
     "data": {
      "text/plain": [
       "int"
      ]
     },
     "execution_count": 4,
     "metadata": {},
     "output_type": "execute_result"
    }
   ],
   "source": [
    "type(value_int)"
   ]
  },
  {
   "cell_type": "code",
   "execution_count": 5,
   "id": "129d87f8",
   "metadata": {},
   "outputs": [
    {
     "data": {
      "text/plain": [
       "float"
      ]
     },
     "execution_count": 5,
     "metadata": {},
     "output_type": "execute_result"
    }
   ],
   "source": [
    "type(value_float)"
   ]
  },
  {
   "cell_type": "markdown",
   "id": "61498ab4",
   "metadata": {},
   "source": [
    "What about changing these? Well, it might work to simply assign a new value to the existing variable, but overwriting like that is not considered a great coding practice... and sometimes in Python that actually can create problems. One of the idiosyncrasies of this language is that variables \"point to\" their values (or to each other), and when redefining them there can occasionally be unexpected results.\n",
    "\n",
    "A more reliable, and generally cleaner coding practice is simply to write a new variable that draws information from the old one:"
   ]
  },
  {
   "cell_type": "code",
   "execution_count": 6,
   "id": "53d5feae",
   "metadata": {},
   "outputs": [
    {
     "data": {
      "text/plain": [
       "1.0"
      ]
     },
     "execution_count": 6,
     "metadata": {},
     "output_type": "execute_result"
    }
   ],
   "source": [
    "convert_int_float = float(value_int)\n",
    "convert_int_float"
   ]
  },
  {
   "cell_type": "code",
   "execution_count": 7,
   "id": "56253880",
   "metadata": {},
   "outputs": [
    {
     "data": {
      "text/plain": [
       "float"
      ]
     },
     "execution_count": 7,
     "metadata": {},
     "output_type": "execute_result"
    }
   ],
   "source": [
    "type (convert_int_float)"
   ]
  },
  {
   "cell_type": "markdown",
   "id": "068c9d3f",
   "metadata": {},
   "source": [
    "Can you figure out a way to do the reverse **(change the float value into an integer),** and then **display the results to the screen?** Use the blank cells below to try to do this: write test code in the cell and run it, and see what happens.\n",
    "\n",
    "NOTE that you can add more blank cells using the \"+\" button in the menus above, and remove them using the \"cut\" button with scissors. (If you then **save** this notebook, your work will still be here later!)"
   ]
  },
  {
   "cell_type": "code",
   "execution_count": null,
   "id": "83cd3b1b",
   "metadata": {},
   "outputs": [],
   "source": []
  },
  {
   "cell_type": "code",
   "execution_count": null,
   "id": "7a9ed7fc",
   "metadata": {},
   "outputs": [],
   "source": []
  },
  {
   "cell_type": "code",
   "execution_count": null,
   "id": "4191d8f1",
   "metadata": {},
   "outputs": [],
   "source": []
  },
  {
   "cell_type": "markdown",
   "id": "4303d974",
   "metadata": {},
   "source": [
    "#### Tips and tricks: Markdown, comments, etc.\n",
    "\n",
    "What about all this text? It turns out that what you are reading as embedded text on the page is actually also a code cell! Select this cell with your mouse, and note that the drop-down menu in the taskbar above now says \"Markdown\" instead of \"Code.\" Markdown is a text rendering language based on LaTeX, which allows you to insert and edit text in Jupyter notebooks. This is great for writing everything from user-facing code, to professional manuscripts, to just a nice web page with embedded code.\n",
    "\n",
    "#### Exercise 3\n",
    "To do some experimenting with Markdown, double click this cell to access the basic Markdown text editor. Edit the text below by typing in the requested information:\n",
    "\n",
    "**Code user name: (Type your name here)**\n",
    "\n",
    "**Date: (Type today's date here)**\n",
    "\n",
    "Note how those lines are in **bold** because of the double asterisks; this is one of several easy shortcuts for text editing. The number signs above create headers. Feel free to experiment a little!\n",
    "\n",
    "When you are finished, simply run this cell (Shift+Enter while it is selected) to render the formatted text. Double-click again to edit if you are not satisfied with the results, or if you want to experiment some more."
   ]
  },
  {
   "cell_type": "markdown",
   "id": "e0bd5145",
   "metadata": {},
   "source": [
    "#### Commenting\n",
    "\n",
    "Finally, one more basic formatting tip: within a code cell (or in a larger Python script saved as a separate code file), non-code information must be indicated clearly as such, so that the program doesn't try to run your notes and comments as though they were code.\n",
    "\n",
    "Annotating and documenting your code with useful tips, notes, status, and use information is critically important, and you should develop the habit of documenting what you are doing as you write and test your code, instead of saving it for later. This way, you and others can always figure out what each line of code is doing, whether or not it works yet, what you might want to change in the future, etc. If you *don't* document what you are doing as you go along, and then your work gets interrupted, you very likely will forget the details and won't be able to tell what's happening when you come back to it later! This is even more of a problem when working in teams, as is so often the case in coding work.\n",
    "\n",
    "Inserting notes and documentation in your code is called \"commenting.\" In Python, comments are indicated using the number sign/hashtag symbol '#' at the beginning of a line (or even in the middle of it!)."
   ]
  },
  {
   "cell_type": "code",
   "execution_count": 8,
   "id": "6037d1ee",
   "metadata": {},
   "outputs": [],
   "source": [
    "# This is an example of a comment. It does not run as code.\n",
    "\n",
    "# This is also a great way to test your code line-by-line:\n",
    "# simply \"comment-out\" the lines you aren't using and want to \"mute\" from running!\n",
    "\n",
    "# What happens if you comment in the middle of a line?\n",
    "variable1 = 1.0  #This part of the line remains as a comment, and won't affect the rest of the code.\n",
    "\n",
    "# The following line will not run unless you delete the number sign. Try it!\n",
    "#variable2 = 1.0\n"
   ]
  },
  {
   "cell_type": "markdown",
   "id": "60cc52c8",
   "metadata": {},
   "source": [
    "### Data collections\n",
    "\n",
    "For our next exercise, let's look at another type of data that Python can save and work with: data collections. There are actually four types of data collections in Python:\n",
    "* List\n",
    "* Dictionary\n",
    "* Set\n",
    "* Tuple\n",
    "\n",
    "For each, it helps to know 1) what kind of data it saves and how it can be used, and 2) the correct syntax (how to write and edit them based on formatting).\n",
    "\n",
    "*Lists* can be edited and rearranged. They are also indexed: the first item can be identified based on its position or order in the list, as well as the second, third, etc.\n",
    "\n",
    "*Dictionaries* are a bit different. They are designed for use when it is necessary to define items in a series, which means you cannot duplicate entries, and they are arranged in pairs where one item is the \"key\" and the other is the \"value.\" The values can be strings, integers, etc. Dictionaries can be edited, and in current versions of python they are ordered.\n",
    "\n",
    "*Sets* are similar to lists, but they have no set item order (which means they are not indexed), the items cannot be edited once defined (though you can add and delete items), and there cannot be duplicate entries.\n",
    "\n",
    "*Tuples* are basically special lists that cannot be changed once they are defined. Permanence is sometimes useful.\n",
    "\n",
    "The code tutorial homework will help you practice how to write, index, and edit some of these data collections, so we won't do a lot of that today, but some examples are below.\n",
    "\n",
    "Two very important tips that for working with data collections:\n",
    "* Variables and names are always *case-sensitive* in Python\n",
    "* Indexing (finding an item in a list, tuple, etc.) always starts counting from 0 (not 1)! This is true for most computer languages, not just Python. Note, however, that this primarily applies to *indexing* and not necessarily to all things you could count."
   ]
  },
  {
   "cell_type": "code",
   "execution_count": 9,
   "id": "e0617dd6",
   "metadata": {},
   "outputs": [
    {
     "name": "stdout",
     "output_type": "stream",
     "text": [
      "['apple', 'banana', 'cherry']\n"
     ]
    }
   ],
   "source": [
    "# Lists have square brackets:\n",
    "example_list = [\"apple\", \"banana\", \"cherry\"]\n",
    "print(example_list)"
   ]
  },
  {
   "cell_type": "code",
   "execution_count": 10,
   "id": "8bb267f4",
   "metadata": {},
   "outputs": [
    {
     "name": "stdout",
     "output_type": "stream",
     "text": [
      "[0.01, 0.02, 0.05, 0.01]\n"
     ]
    }
   ],
   "source": [
    "# Lists are not limited to strings:\n",
    "float_list = [0.01,0.02,0.05,0.01]\n",
    "print(float_list)"
   ]
  },
  {
   "cell_type": "code",
   "execution_count": 11,
   "id": "8b3b76db",
   "metadata": {},
   "outputs": [
    {
     "name": "stdout",
     "output_type": "stream",
     "text": [
      "{'firstname': 'Lynne', 'lastname': 'Elkins', 'office': 304}\n"
     ]
    }
   ],
   "source": [
    "# Dictionaries have curly brackets and pairs of items:\n",
    "example_dict = {\n",
    "    \"firstname\": \"Lynne\",\n",
    "    \"lastname\": \"Elkins\",\n",
    "    \"office\": 304,\n",
    "}\n",
    "print(example_dict)"
   ]
  },
  {
   "cell_type": "markdown",
   "id": "f2f69172",
   "metadata": {},
   "source": [
    "Likewise, dictionaries can have integers, floats, or strings. This one has a combination of strings and integers.\n",
    "\n",
    "Note that in this case, a decision was made to split up the elements of the dictionary on different lines. This helps keep everything visible on the screen together and is neat and tidy for longer collections. Doing this is always an option, but it requires correct indenting as above, and you do still need to include all of the required syntax elements to define your collection (colons, commas, curly start and end brackets for dictionaries, etc.). Normally Python will indent lines for you when you type \"Return,\" though, so this is not too tricky!"
   ]
  },
  {
   "cell_type": "code",
   "execution_count": 12,
   "id": "be6d8b0c",
   "metadata": {},
   "outputs": [
    {
     "name": "stdout",
     "output_type": "stream",
     "text": [
      "{1.2, 5, 'bird', 'dog', 'cat'}\n"
     ]
    }
   ],
   "source": [
    "# Sets also have curly brackets, a simpler list of items with no repeats or particular order:\n",
    "example_set = {\"cat\", \"dog\", \"bird\",5,1.2}\n",
    "print(example_set)"
   ]
  },
  {
   "cell_type": "code",
   "execution_count": 13,
   "id": "dba02988",
   "metadata": {},
   "outputs": [
    {
     "name": "stdout",
     "output_type": "stream",
     "text": [
      "('one', 2.0, 'three')\n"
     ]
    }
   ],
   "source": [
    "# Tuples have non-editable elements, fixed indexed positions, and round brackets/parentheses:\n",
    "example_tuple = (\"one\", 2.0, \"three\")\n",
    "print(example_tuple)"
   ]
  },
  {
   "cell_type": "markdown",
   "id": "53c33807",
   "metadata": {},
   "source": [
    "### (Brief) introduction to loops\n",
    "\n",
    "Now that we have defined some basic data types in Python, let's do a little preview of functional code! In numerical calculations, it is often useful to repeat a calculation or operation several times. This is really just iteration, something computers are particularly good at doing. A common application of iterative operations is changing an independent variable and then testing it for new results in a calculation. Writing this from scratch requires breaking down your operation into a few pieces, though:\n",
    "* What is the calculation?\n",
    "* How many times will you do the calculation?\n",
    "* What are the input values you will use each time you do the calculation?\n",
    "* How will you save and use the results from each iteration?\n",
    "\n",
    "\n",
    "#### Exercise 4\n",
    "For our purposes of just introducing this technique and practicing it, let's keep the calculation simple. Your overall task is to calculate and save the results for the following mathematical formula:\n",
    "\n",
    "$y = 2x + 5$\n",
    "\n",
    "given a randomly-generated series of 5 values for the independent variable, $x$. The results will be saved to a list.\n",
    "\n",
    "To do this, work through the instuctions below, and then write your own code in the blank cells, run it, and see what you get! If your results don't make sense or have some kind of error (only reporting 4 values instead of 5, or all 5 values are the same... etc.), edit the code and try it again, until you get the expected outcomes! This troubleshooting approach is a standard way to test and update code, and it helps you learn to do it all better the next time."
   ]
  },
  {
   "cell_type": "markdown",
   "id": "b1dc4536",
   "metadata": {},
   "source": [
    "First, how do you generate random values? It turns out there is a useful program package called \"random.\" Run the cell below to import this package. This just means that from now on, within this notebook you will be able to access functions saved within that package."
   ]
  },
  {
   "cell_type": "code",
   "execution_count": 14,
   "id": "b78f917d",
   "metadata": {},
   "outputs": [],
   "source": [
    "import random"
   ]
  },
  {
   "cell_type": "markdown",
   "id": "d2be19a7",
   "metadata": {},
   "source": [
    "The cell below is an example of how to use the random package to generate a list of values. Study it, run it, test it, and then write your own lines of code in the blank cells below to define your variable \"x\" as a data collection. Based on the examples above, this syntax will generate a *list.*"
   ]
  },
  {
   "cell_type": "code",
   "execution_count": 15,
   "id": "2fe032a9",
   "metadata": {},
   "outputs": [
    {
     "name": "stdout",
     "output_type": "stream",
     "text": [
      "[55, 5, 61]\n"
     ]
    }
   ],
   "source": [
    "# Generate a list of 3 random numbers between 0 and 100\n",
    "randomlist = random.sample(range(0, 100), 3)\n",
    "print(randomlist)"
   ]
  },
  {
   "cell_type": "code",
   "execution_count": null,
   "id": "5200f487",
   "metadata": {},
   "outputs": [],
   "source": []
  },
  {
   "cell_type": "code",
   "execution_count": null,
   "id": "5ddcc1dd",
   "metadata": {},
   "outputs": [],
   "source": []
  },
  {
   "cell_type": "markdown",
   "id": "aeaf463d",
   "metadata": {},
   "source": [
    "Next, you need to write your actual calculation function, and tell your program how many times to run it.\n",
    "\n",
    "It turns out you can do these things at the same time, because Python is smart enough to simply go through all the items in a list. If you are curious, it is also possible to identify how many items are present in your list using the length function:"
   ]
  },
  {
   "cell_type": "code",
   "execution_count": 16,
   "id": "c9c3087d",
   "metadata": {},
   "outputs": [
    {
     "name": "stdout",
     "output_type": "stream",
     "text": [
      "3\n"
     ]
    }
   ],
   "source": [
    "# How many items are in the list \"randomlist\"?\n",
    "# Save that number to a variable called \"n\" in case you want to use it later:\n",
    "n = len(randomlist)\n",
    "print(n)"
   ]
  },
  {
   "cell_type": "markdown",
   "id": "5c582d85",
   "metadata": {},
   "source": [
    "Performing an operation like a calculation iteratively requires setting up a *loop*. For this kind of operation, you want to run the loop once (that is, perform the calculation once) *for* every value of your variable x, which means you are using a \"for\" loop. Here is the syntax for a very simple \"for\" loop:"
   ]
  },
  {
   "cell_type": "code",
   "execution_count": 17,
   "id": "e30a4b44",
   "metadata": {},
   "outputs": [
    {
     "data": {
      "text/plain": [
       "62"
      ]
     },
     "execution_count": 17,
     "metadata": {},
     "output_type": "execute_result"
    }
   ],
   "source": [
    "# A simple 'for' loop:\n",
    "for i in randomlist:\n",
    "    j = i + 1\n",
    "j"
   ]
  },
  {
   "cell_type": "markdown",
   "id": "6d57a967",
   "metadata": {},
   "source": [
    "Now, this worked, but note how it only printed the final value. That's because each time the loop ran through the calculation, it actually overwrote the variable 'j' and saved the latest result. Once the whole loop was finished, only the final round was actually saved, and you have lost the data from the previous iterations.\n",
    "\n",
    "To fix this, you need to do a little bit of additional work telling the program to save the result somewhere else that won't be overwritten. It's like keeping a log of results.\n",
    "\n",
    "There are several ways to save values iteratively, but one thing that does *not* work is manually naming each variable, because you might want to loop this calculation 10, 20, or 1000 times. You might even want to run it as many times as needed, based on some other piece of information, so you may not actually know how many times to do it.\n",
    "\n",
    "In fact, the best code is flexible and not fixed: it can consult another piece of information (say, the \"length\" of another variable) and decide from that information how many times to run the loop, and then save all the outputs for you. You therefore need an automated method of saving values instead of assigning each one to its own variable.\n",
    "\n",
    "This is one of the things data collections are meant for! But how do you add on a new value to a list, without overwriting the old ones? It turns out there is a handy function called \"append\" that does exactly this:"
   ]
  },
  {
   "cell_type": "code",
   "execution_count": 18,
   "id": "df88e804",
   "metadata": {},
   "outputs": [
    {
     "name": "stdout",
     "output_type": "stream",
     "text": [
      "[10, 20, 30, 40, 50, 60, 70, 80, 90, 100]\n"
     ]
    }
   ],
   "source": [
    "# Example of a for loop with appended values saved to a list:\n",
    "numbers=[10,20,30,40]\n",
    "\n",
    "for i in range(5,11):\n",
    "    numbers.append(10*i)\n",
    "\n",
    "print(numbers)"
   ]
  },
  {
   "cell_type": "markdown",
   "id": "8f051948",
   "metadata": {},
   "source": [
    "**NOTE 1**: This is the first time we have used a kind of syntax that is particular to the Python language, namely the \"dot operator\" (i.e., the period). Python is a language that uses objects; in fact, almost *everything* is an object, with its own attributes and methods: every constant, variable (like \"numbers\" above), or function is, in fact, an object and you can define and then use all kinds of things for them. The connection between any object and its attributes or methods is indicated by a dot (”.”) written between them.\n",
    "\n",
    "An attribute is a *property* of the object that you can retrieve (to, say, print or use in a calculation). You can define and use attributes using the syntax: `<object_name>.<attribute_name>`.\n",
    "\n",
    "Similarly, a method is a *function* that the object provides, and is set up using similar syntax (usually with parentheses so you can add specific commands and instructions for how to run the function; if you aren't going to define any of these, the parentheses are just left blank).\n",
    "\n",
    "So for example, you could define a \"class\" of functions and variables that is overall called \"dog,\" which contains individual variable objects like \"Fido.\" The dog class might include some methods you have written, like eats(), runs(), sleeps(). You could then write Fido.eats(), Fiido.runs(), Fido.sleeps(), and something would happen: some calculations or printing or other commands will run, using the Fido variable and whatever methods were previously defined. You can also define attributes for Fido, such as Fido.size = tall, or Fido.hair_color = brown, and these attributes will then be saved to the object. It takes a little practice to get used to the notation, but it works well!\n",
    "\n",
    "With this in mind, what do you think the line `numbers.append(10*i)` is actually doing? Look carefully at the code. `numbers` is a variable that you defined as a list *before* you started the loop; it starts out with just the values [10,20,30,40]. But for each pass through the loop, the `append` function is adding an element to the end of `numbers` that is equal to a value ($i$) times 10."
   ]
  },
  {
   "cell_type": "markdown",
   "id": "abe3f9a2",
   "metadata": {},
   "source": [
    "**NOTE 2:** The example above is actually showing a slightly different application of for loops that may or may not be what you want to do! This is often the case when looking up examples of how to write code: they were written for some other purpose, but there is still something useful in how it is set up if you can figure it out! You can always choose elements of the syntax that are useful, and try some other approaches to see what works.\n",
    "\n",
    "In this case, there are two differences between this example and the prior one:\n",
    "1) Instead of selecting all the variables in a list for iterating, the independent variable '$i$' is defined as a list using the 'range' function. You may or may not want to use this yourself, but it's good to know the option exists! This simply tells the script to run the defined operation (that is, to append a value equivalent to $10i$ to the list) for the values i = 5, 6, 7, 8, 9, 10 (not 11).\n",
    "\n",
    "2) You may not actually need an existing list like the one called \"numbers\" for your own solution, because you may not have any initial or preexisting values for 'y' to start with. But in order to append your results for 'y' to a list, you *do* need to first create an empty list where your code can save values (that is, give the code a destination for saving items):"
   ]
  },
  {
   "cell_type": "code",
   "execution_count": 19,
   "id": "46f6592d",
   "metadata": {},
   "outputs": [
    {
     "name": "stdout",
     "output_type": "stream",
     "text": [
      "5\n",
      "6\n",
      "7\n",
      "8\n",
      "9\n",
      "10\n"
     ]
    }
   ],
   "source": [
    "# Example of how ranges work:\n",
    "for i in range(5, 11):\n",
    "    print(i)"
   ]
  },
  {
   "cell_type": "code",
   "execution_count": 20,
   "id": "6e1b05e6",
   "metadata": {},
   "outputs": [
    {
     "name": "stdout",
     "output_type": "stream",
     "text": [
      "[]\n"
     ]
    }
   ],
   "source": [
    "# How to create a blank list, where you can add values later by appending them:\n",
    "example_list_2 = []\n",
    "print(example_list_2)"
   ]
  },
  {
   "cell_type": "markdown",
   "id": "d54f9459",
   "metadata": {},
   "source": [
    "One final tip: the syntax used in the 'for' loop above is important! If you forget, say, the colon ':', you will get an error. Sometimes the error messages are clear, but other times they refer to functions from other code packages that you cannot see and may not be familiar with, so you may need to do some hunting to figure out what you did wrong. Trial and error helps a lot!\n",
    "\n",
    "You now have some examples and options for how to do your calculation. See if you can make it work, and good luck!!"
   ]
  },
  {
   "cell_type": "code",
   "execution_count": null,
   "id": "409fe237",
   "metadata": {},
   "outputs": [],
   "source": []
  },
  {
   "cell_type": "code",
   "execution_count": null,
   "id": "2d43f71f",
   "metadata": {},
   "outputs": [],
   "source": []
  },
  {
   "cell_type": "code",
   "execution_count": null,
   "id": "9c073021",
   "metadata": {},
   "outputs": [],
   "source": []
  },
  {
   "cell_type": "markdown",
   "id": "b98c61da",
   "metadata": {},
   "source": [
    "### Next steps\n",
    "\n",
    "Either at the end of class or whenever you finish this exercise, be sure to **save a copy of the notebook** and **upload the saved file to today's tutorial assignment for participation credit!** This is a group exercise and will be graded purely for completing the work. Note that you do not need to take this tutorial home to finish outside of class, so if you don't finish just save it and upload what you have done; but there may be some future tutorials that we ask you to finish on your own before uploading for credit.\n",
    "\n",
    "Did you finish early, so you have some remaining time in class after finishing this guided tutorial? Get a head start on the assigned Python tutorials due next week! Those tutorials will review a lot of what we did today, but in further detail. Please note that the assignment is individual work, not group work, but feel free to check in with a classmate if you have questions or are uncertain about something as you get started and try to figure things out!"
   ]
  },
  {
   "cell_type": "code",
   "execution_count": null,
   "id": "2154a12f",
   "metadata": {},
   "outputs": [],
   "source": []
  }
 ],
 "metadata": {
  "kernelspec": {
   "display_name": "Python 3 (ipykernel)",
   "language": "python",
   "name": "python3"
  },
  "language_info": {
   "codemirror_mode": {
    "name": "ipython",
    "version": 3
   },
   "file_extension": ".py",
   "mimetype": "text/x-python",
   "name": "python",
   "nbconvert_exporter": "python",
   "pygments_lexer": "ipython3",
   "version": "3.9.12"
  }
 },
 "nbformat": 4,
 "nbformat_minor": 5
}
