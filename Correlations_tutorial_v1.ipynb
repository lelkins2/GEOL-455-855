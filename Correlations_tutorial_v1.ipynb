{
 "cells": [
  {
   "cell_type": "markdown",
   "id": "5e35da89",
   "metadata": {},
   "source": [
    "# Tutorial: Statistical Populations and Correlations\n",
    "\n",
    "#### GEOL 455/855, Week 4 Exercise, Pt. 1\n",
    "#### Dr. Lynne Elkins"
   ]
  },
  {
   "cell_type": "markdown",
   "id": "5258b553",
   "metadata": {},
   "source": [
    "### Part 1: T-Tests\n",
    "\n",
    "To start, reproduce the example from the lecture, which had a data set with the systolic blood pressure measurements for 14 patients.\n",
    "\n",
    "Your goal: to determine whether the population mean is *less than 165.*"
   ]
  },
  {
   "cell_type": "code",
   "execution_count": null,
   "id": "5f6eba13",
   "metadata": {},
   "outputs": [],
   "source": [
    "# Enter the population data set:\n",
    "systolicbp=[183, 152, 178, 157, 194, 163, 144, 114, 178, 152, 118, 158, 172, 138]"
   ]
  },
  {
   "cell_type": "code",
   "execution_count": null,
   "id": "c9b9d67e",
   "metadata": {},
   "outputs": [],
   "source": [
    "# Enter the population mean value:\n",
    "bpmean = 165"
   ]
  },
  {
   "cell_type": "markdown",
   "id": "fafe24b4",
   "metadata": {},
   "source": [
    "To do this analysis, you will need to import some statistical data packages. There are a few options, but one of the easiest to use is `stats` in the larger `scipy` package."
   ]
  },
  {
   "cell_type": "code",
   "execution_count": null,
   "id": "bf150bd0",
   "metadata": {},
   "outputs": [],
   "source": [
    "# This line imports just the stats part of the scipy package:\n",
    "from scipy import stats"
   ]
  },
  {
   "cell_type": "markdown",
   "id": "b019f2e7",
   "metadata": {},
   "source": [
    "You will need to calculate a few values to run your test. First, write out (in Markdown) your null and alternative hypotheses:"
   ]
  },
  {
   "cell_type": "markdown",
   "id": "58f5be83",
   "metadata": {},
   "source": [
    "Null hypothesis H0: \n",
    "\n",
    "Alternative hypothesis H1: "
   ]
  },
  {
   "cell_type": "markdown",
   "id": "91214e07",
   "metadata": {},
   "source": [
    "The next cell sets up a calculation using a function from the `stats` package, called \"ttest_1samp.\" As its name suggests, the function conducts a 1-sample t-test calculation. This function takes two arguments, the data set (here, 'systolicbp') and the test population mean ('bpmean'). It then reports two results, a test statistic and a p-value. The syntax is:\n",
    "\n",
    "```\n",
    "t_value,p_value=stats.ttest_1samp(dataset,mean)\n",
    "```\n",
    "\n",
    "Set this up in the next cell, write additional lines to print the t-value and p-value results to the screen, and run the cell. What happens?"
   ]
  },
  {
   "cell_type": "code",
   "execution_count": null,
   "id": "b61a54ab",
   "metadata": {},
   "outputs": [],
   "source": [
    "# Set up the t-test calculation here:\n"
   ]
  },
  {
   "cell_type": "markdown",
   "id": "45667a09",
   "metadata": {},
   "source": [
    "There is an additional correction to take into account before you interpret these results: the alternative hypothesis (if written correctly!) is focused on values less than 165, and not those greater than 165. This is called a \"one-tailed\" hypothesis, and its p-value is half of the total p-value result you calculated above. Calculate a new p-value just for your one-tailed hypothesis below:"
   ]
  },
  {
   "cell_type": "code",
   "execution_count": null,
   "id": "1968acf2",
   "metadata": {},
   "outputs": [],
   "source": [
    "# Calculate the one-tailed p-value for your alternative hypothesis, and print it to the screen:\n"
   ]
  },
  {
   "cell_type": "markdown",
   "id": "bff67f38",
   "metadata": {},
   "source": [
    "Now write a line of code to compare that result to a threshold  of 0.05 and print the appropriate conclusion to the screen. If your p-value is less than 0.05, you have rejected the null hypothesis H0 in favor of your alternative hypothesis, H1. (Tip for writing better code: Can you set this up so that the text output matches the outcome in either case? An 'if' loop would work well for that!)"
   ]
  },
  {
   "cell_type": "code",
   "execution_count": null,
   "id": "d00c81bc",
   "metadata": {},
   "outputs": [],
   "source": [
    "# Compare and interpret the p-value result:\n"
   ]
  },
  {
   "cell_type": "markdown",
   "id": "4845e207",
   "metadata": {},
   "source": [
    "#### Paired t-tests\n",
    "\n",
    "Now consider the problem (and hints) below, and see if you can set up a simple test with your classmates."
   ]
  },
  {
   "cell_type": "markdown",
   "id": "3ec4e39f",
   "metadata": {},
   "source": [
    "In this problem, a group of students was given a math test two times, once before and then after a round of tutoring lessons. Was the tutoring beneficial overall?\n",
    "\n",
    "Scores on the 1st test: 23 20 19 21 18 20 18 17 23 16 19\n",
    "\n",
    "Scores on the 2nd test: 24 19 22 18 20 22 20 20 23 20 18\n",
    "\n",
    "**Your task:** Write hypotheses and design a test to identify whether the tutoring was beneficial or not.\n",
    "\n",
    "**Tips:** Design your test so that the result (and interpretation) will print automatically to the screen. That way you could reuse your script given a different input data set."
   ]
  },
  {
   "cell_type": "code",
   "execution_count": null,
   "id": "5aa03b51",
   "metadata": {},
   "outputs": [],
   "source": []
  },
  {
   "cell_type": "code",
   "execution_count": null,
   "id": "1f218b73",
   "metadata": {},
   "outputs": [],
   "source": []
  },
  {
   "cell_type": "code",
   "execution_count": null,
   "id": "83ed3915",
   "metadata": {},
   "outputs": [],
   "source": []
  },
  {
   "cell_type": "markdown",
   "id": "e3d35870",
   "metadata": {},
   "source": [
    "### Part 2. Correlations\n",
    "\n",
    "Another package that has a lot of statistical routines and functions in Python is NumPy. We will use that here so you can get some practice with it, since it is a very useful package in data science."
   ]
  },
  {
   "cell_type": "code",
   "execution_count": null,
   "id": "fd68aa0c",
   "metadata": {},
   "outputs": [],
   "source": [
    "# The line below imports the NumPy package, and gives it a convenient nickname.\n",
    "# This is a good approach for packages you expect to use many times, so you \n",
    "# don't have to keep typing them out.\n",
    "import numpy as np"
   ]
  },
  {
   "cell_type": "markdown",
   "id": "81295feb",
   "metadata": {},
   "source": [
    "First up: Pearson correlation coefficients! NumPy has a routine called `np.corrcoef()` that produces a matrix of Pearson coefficients. To use it, you need a pair of arrays that you will compare to see if they are statistically correlated. We will set that up in the next cell using ranges and arrays:"
   ]
  },
  {
   "cell_type": "code",
   "execution_count": null,
   "id": "46984aa6",
   "metadata": {},
   "outputs": [],
   "source": [
    "# Use the range command to create an array of integers from 10 to 19:\n",
    "x = np.arange(10,20)\n",
    "x"
   ]
  },
  {
   "cell_type": "code",
   "execution_count": null,
   "id": "6ecb2335",
   "metadata": {},
   "outputs": [],
   "source": [
    "# Create a second array of the same size, with arbitrary numbers (feel free to change these!):\n",
    "y = np.array([2,1,4,5,8,12,18,25,96,48])\n",
    "y"
   ]
  },
  {
   "cell_type": "markdown",
   "id": "948caab4",
   "metadata": {},
   "source": [
    "Here is how the function works: the following cell creates a correlation coefficient matrix by comparing x and y. The values on the diagonal of the matrix (upper left, lower right) are equal to 1, because they show the relationship between x and x and between y and y. The other values give the degree of correlation between x and y *and* between y and x (in this case, these are equal)."
   ]
  },
  {
   "cell_type": "code",
   "execution_count": null,
   "id": "996646b4",
   "metadata": {},
   "outputs": [],
   "source": [
    "# Calculate Pearson correlation coefficients:\n",
    "\n",
    "r = np.corrcoef(x,y)\n",
    "r"
   ]
  },
  {
   "cell_type": "markdown",
   "id": "839792c2",
   "metadata": {},
   "source": [
    "`Scipy` and `stats` also include correlation functions, which can be set up almost the same way as the Pearson method above (that is, using numpy arrays). Run some tests for Pearson's r, Spearman's rho, and Kendall's tau correlations using the same two arrays (x and y) and the syntax below:\n",
    "\n",
    "```\n",
    "pearsonr()\n",
    "spearmanr()\n",
    "kendalltau()\n",
    "\n",
    "corr,p_value = scipy.stats.function(x,y)\n",
    "\n",
    "```"
   ]
  },
  {
   "cell_type": "code",
   "execution_count": null,
   "id": "7642aa74",
   "metadata": {},
   "outputs": [],
   "source": [
    "# Calculate Pearson's r values using the stats routine:\n"
   ]
  },
  {
   "cell_type": "code",
   "execution_count": null,
   "id": "ec0a6309",
   "metadata": {},
   "outputs": [],
   "source": [
    "# Calculate Spearman's rank coefficients:\n"
   ]
  },
  {
   "cell_type": "code",
   "execution_count": null,
   "id": "589bddae",
   "metadata": {},
   "outputs": [],
   "source": [
    "# Calculate Kendall's tau:\n"
   ]
  },
  {
   "cell_type": "markdown",
   "id": "75280476",
   "metadata": {},
   "source": [
    "What was different? Well for one thing, these functions are written to return just two values: the correlation coefficient (first number), and the p-value (second number)."
   ]
  },
  {
   "cell_type": "markdown",
   "id": "6334037f",
   "metadata": {},
   "source": [
    "#### Pandas methods\n",
    "\n",
    "What if you have imported data using a dataframe (a type of data table), or want to save them that way for easy printing or use in other functions? It turns out that the Pandas package is also good for calculating statistics, and has some similar routines built in. In this case, there is a single command for all correlation calculations, which you can feed an argument to specify which type ('pearson', 'spearman', 'kendall') you want to use. You can even feed in another outside function of your own if you like, making this a very versatile method!\n",
    "\n",
    "But first, you need a couple of (indexed) dataframes to work with:"
   ]
  },
  {
   "cell_type": "code",
   "execution_count": null,
   "id": "68f730d1",
   "metadata": {},
   "outputs": [],
   "source": [
    "import pandas as pd"
   ]
  },
  {
   "cell_type": "code",
   "execution_count": null,
   "id": "7a5ce1b6",
   "metadata": {},
   "outputs": [],
   "source": [
    "# Set up a series of x values from 10 to 19, but this time as a dataframe column:\n",
    "x = pd.Series(range(10,20))\n",
    "x"
   ]
  },
  {
   "cell_type": "code",
   "execution_count": null,
   "id": "7c7f9170",
   "metadata": {},
   "outputs": [],
   "source": [
    "# Set up your y value as a list of numbers:\n",
    "y = pd.Series([2,1,4,5,8,12,18,25,96,48])\n",
    "y"
   ]
  },
  {
   "cell_type": "markdown",
   "id": "f6610b47",
   "metadata": {},
   "source": [
    "It turns out that Pearson's r is the default correlation coefficient provided by the `.corr()` function, so if you simply use the variable names with no other arguments, that's what you will get:"
   ]
  },
  {
   "cell_type": "code",
   "execution_count": null,
   "id": "236b55cc",
   "metadata": {},
   "outputs": [],
   "source": [
    "x.corr(y)"
   ]
  },
  {
   "cell_type": "code",
   "execution_count": null,
   "id": "2e61ce85",
   "metadata": {},
   "outputs": [],
   "source": [
    "y.corr(x)"
   ]
  },
  {
   "cell_type": "markdown",
   "id": "6e333de2",
   "metadata": {},
   "source": [
    "But you can also modify the method by adding the argument \"method='spearman'\" inside the parentheses. Try it below and see what you get, both for Spearman's rank and Kendall's tau! (If you aren't sure how to do this, just be bold: try typing it and running it as a test! After all, if you make an error in the syntax, it just won't run, and then you can try again.)"
   ]
  },
  {
   "cell_type": "code",
   "execution_count": null,
   "id": "cbb2411f",
   "metadata": {},
   "outputs": [],
   "source": [
    "# Calculate Spearman's rank:\n"
   ]
  },
  {
   "cell_type": "code",
   "execution_count": null,
   "id": "c06ee0c5",
   "metadata": {},
   "outputs": [],
   "source": [
    "# Calculate Kendall's rho:\n"
   ]
  },
  {
   "cell_type": "markdown",
   "id": "443d845b",
   "metadata": {},
   "source": [
    "How do the results compare to your calculations using the other packages?"
   ]
  },
  {
   "attachments": {},
   "cell_type": "markdown",
   "id": "fbdda836",
   "metadata": {},
   "source": [
    "#### Further reading\n",
    "\n",
    "Today's exercise was adapted from a realpython free tutorial that you can complete online! That tutorial contains further examples and implementations of correlation calculation methods. I encourage you to keep working through that tutorial, either in class or on your own, until you are comfortable with these methods:\n",
    "\n",
    "https://realpython.com/numpy-scipy-pandas-correlation-python/"
   ]
  },
  {
   "cell_type": "code",
   "execution_count": null,
   "id": "be923c5d",
   "metadata": {},
   "outputs": [],
   "source": []
  }
 ],
 "metadata": {
  "kernelspec": {
   "display_name": "Python 3 (ipykernel)",
   "language": "python",
   "name": "python3"
  },
  "language_info": {
   "codemirror_mode": {
    "name": "ipython",
    "version": 3
   },
   "file_extension": ".py",
   "mimetype": "text/x-python",
   "name": "python",
   "nbconvert_exporter": "python",
   "pygments_lexer": "ipython3",
   "version": "3.9.12"
  }
 },
 "nbformat": 4,
 "nbformat_minor": 5
}
